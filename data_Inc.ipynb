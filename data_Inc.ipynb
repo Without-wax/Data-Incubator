{
 "cells": [
  {
   "cell_type": "code",
   "execution_count": 64,
   "metadata": {},
   "outputs": [
    {
     "name": "stdout",
     "output_type": "stream",
     "text": [
      "HTTP error occurred: 429 Client Error:  for url: https://api.co2signal.com/v1/latest?countryCode=GB\n",
      "HTTP error occurred: 429 Client Error:  for url: https://api.co2signal.com/v1/latest?countryCode=DE\n",
      "HTTP error occurred: 429 Client Error:  for url: https://api.co2signal.com/v1/latest?countryCode=FR\n",
      "HTTP error occurred: 429 Client Error:  for url: https://api.co2signal.com/v1/latest?countryCode=ES\n",
      "HTTP error occurred: 429 Client Error:  for url: https://api.co2signal.com/v1/latest?countryCode=NO\n",
      "HTTP error occurred: 429 Client Error:  for url: https://api.co2signal.com/v1/latest?countryCode=UY\n",
      "HTTP error occurred: 429 Client Error:  for url: https://api.co2signal.com/v1/latest?countryCode=RO\n",
      "HTTP error occurred: 429 Client Error:  for url: https://api.co2signal.com/v1/latest?countryCode=DK\n",
      "HTTP error occurred: 429 Client Error:  for url: https://api.co2signal.com/v1/latest?countryCode=FI\n",
      "HTTP error occurred: 429 Client Error:  for url: https://api.co2signal.com/v1/latest?countryCode=SG\n",
      "HTTP error occurred: 429 Client Error:  for url: https://api.co2signal.com/v1/latest?countryCode=AW\n"
     ]
    },
    {
     "ename": "NameError",
     "evalue": "name 'task' is not defined",
     "output_type": "error",
     "traceback": [
      "\u001b[0;31m---------------------------------------------------------------------------\u001b[0m",
      "\u001b[0;31mNameError\u001b[0m                                 Traceback (most recent call last)",
      "\u001b[0;32m<ipython-input-64-d7069c2e7912>\u001b[0m in \u001b[0;36m<module>\u001b[0;34m\u001b[0m\n\u001b[1;32m     27\u001b[0m     \u001b[0;34m\"\"\"Too many requests\"\"\"\u001b[0m\u001b[0;34m\u001b[0m\u001b[0;34m\u001b[0m\u001b[0m\n\u001b[1;32m     28\u001b[0m \u001b[0;34m\u001b[0m\u001b[0m\n\u001b[0;32m---> 29\u001b[0;31m @task(\n\u001b[0m\u001b[1;32m     30\u001b[0m    \u001b[0mrate_limit\u001b[0m\u001b[0;34m=\u001b[0m\u001b[0;34m'10/s'\u001b[0m\u001b[0;34m,\u001b[0m\u001b[0;34m\u001b[0m\u001b[0;34m\u001b[0m\u001b[0m\n\u001b[1;32m     31\u001b[0m    \u001b[0mautoretry_for\u001b[0m\u001b[0;34m=\u001b[0m\u001b[0;34m(\u001b[0m\u001b[0mConnectTimeout\u001b[0m\u001b[0;34m,\u001b[0m \u001b[0mTooManyRequests\u001b[0m\u001b[0;34m,\u001b[0m\u001b[0;34m)\u001b[0m\u001b[0;34m,\u001b[0m\u001b[0;34m\u001b[0m\u001b[0;34m\u001b[0m\u001b[0m\n",
      "\u001b[0;31mNameError\u001b[0m: name 'task' is not defined"
     ]
    }
   ],
   "source": [
    "import requests\n",
    "import json\n",
    "from requests.exceptions import HTTPError\n",
    "from time import sleep\n",
    "countries = ['GB','DE','FR','ES','NO','UY','RO','DK','FI','SG','AW']\n",
    "data = ['' for i in range(len(countries))]\n",
    "\n",
    "for i in range(len(countries)):\n",
    "    url = 'https://api.co2signal.com/v1/latest?countryCode=%s' %countries[i]\n",
    "    api_key = '242c3758c804db24'\n",
    "    headers = {'Content-type': 'application/json', 'Accept': 'text/plain', 'auth-token': api_key}\n",
    "\n",
    "    try:\n",
    "        response = requests.get(url, headers=headers)\n",
    "    # If the response was successful, no Exception will be raised\n",
    "        response.raise_for_status()\n",
    "    except HTTPError as http_err:\n",
    "        print(f'HTTP error occurred: {http_err}')  # Python 3.6\n",
    "    except Exception as err:\n",
    "        print(f'Other error occurred: {err}')  # Python 3.6\n",
    "    else:\n",
    "        print('Success!')\n",
    "    data[i] = response.json()\n",
    "    sleep(1)"
   ]
  },
  {
   "cell_type": "code",
   "execution_count": 61,
   "metadata": {},
   "outputs": [
    {
     "name": "stdout",
     "output_type": "stream",
     "text": [
      "<html><head><title>Error</title></head><body>Unauthorized. Missing or invalid security token</body></html>\n"
     ]
    }
   ],
   "source": [
    "import requests\n",
    "url = \"https://transparency.entsoe.eu/api?securityToken=TOKEN&documentType=A44&in_Domain=10Y1001A1001A63L&out_Domain=10Y1001A1001A63L&periodStart=201809242300&periodEnd=201809302300\"\n",
    "response = requests.get(url)\n",
    "data = response.text\n",
    "print(data)"
   ]
  },
  {
   "cell_type": "code",
   "execution_count": null,
   "metadata": {},
   "outputs": [],
   "source": []
  }
 ],
 "metadata": {
  "kernelspec": {
   "display_name": "Python 3",
   "language": "python",
   "name": "python3"
  },
  "language_info": {
   "codemirror_mode": {
    "name": "ipython",
    "version": 3
   },
   "file_extension": ".py",
   "mimetype": "text/x-python",
   "name": "python",
   "nbconvert_exporter": "python",
   "pygments_lexer": "ipython3",
   "version": "3.7.3"
  }
 },
 "nbformat": 4,
 "nbformat_minor": 4
}
